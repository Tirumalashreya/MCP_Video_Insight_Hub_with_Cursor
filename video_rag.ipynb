{
 "cells": [
  {
   "cell_type": "markdown",
   "metadata": {},
   "source": [
    "# Video-RAG using Ragie\n",
    "\n",
    "This notebook demonstrates how to build a video-based Retrieval Augmented Generation (RAG) system. It uses [Ragie's](https://www.ragie.ai/) video ingestion and retrieval capabilities to enable semantic search and Q&A over video content."
   ]
  },
  {
   "cell_type": "code",
   "execution_count": 2,
   "metadata": {},
   "outputs": [
    {
     "data": {
      "text/plain": [
       "True"
      ]
     },
     "execution_count": 2,
     "metadata": {},
     "output_type": "execute_result"
    }
   ],
   "source": [
    "import os\n",
    "import time\n",
    "\n",
    "from dotenv import load_dotenv\n",
    "from ragie import Ragie\n",
    "\n",
    "load_dotenv()"
   ]
  },
  {
   "cell_type": "code",
   "execution_count": 3,
   "metadata": {},
   "outputs": [],
   "source": [
    "ragie = Ragie(\n",
    "    auth=os.getenv('RAGIE_API_KEY')\n",
    ")"
   ]
  },
  {
   "cell_type": "markdown",
   "metadata": {},
   "source": [
    "## Remove previous data"
   ]
  },
  {
   "cell_type": "code",
   "execution_count": 4,
   "metadata": {},
   "outputs": [
    {
     "name": "stdout",
     "output_type": "stream",
     "text": [
      "Deleted document 58d43630-ae5b-4ef5-b361-93e7f97c5b67\n"
     ]
    }
   ],
   "source": [
    "response = ragie.documents.list()       \n",
    "documents = response.result.documents\n",
    "\n",
    "for document in documents:\n",
    "    try:\n",
    "        ragie.documents.delete(\n",
    "            document_id=document.id\n",
    "        )\n",
    "        print(f\"Deleted document {document.id}\")\n",
    "    except Exception as e:\n",
    "        print(f\"Error deleting document {document.id}: {e}\")"
   ]
  },
  {
   "cell_type": "markdown",
   "metadata": {},
   "source": [
    "## Ingestion"
   ]
  },
  {
   "cell_type": "code",
   "execution_count": 5,
   "metadata": {},
   "outputs": [
    {
     "name": "stdout",
     "output_type": "stream",
     "text": [
      "status='partitioning' id='a24c92c4-0856-4c8b-8054-d34133b6c050' created_at=datetime.datetime(2025, 6, 17, 18, 35, 51, 854005, tzinfo=TzInfo(UTC)) updated_at=datetime.datetime(2025, 6, 17, 18, 35, 52, 233392, tzinfo=TzInfo(UTC)) name='messi-goals.mp4' metadata={} partition='default' chunk_count=None external_id=None page_count=None\n"
     ]
    }
   ],
   "source": [
    "current_dir = os.path.curdir\n",
    "file_path = os.path.join(current_dir, 'videos/messi-goals.mp4')\n",
    "result = ragie.documents.create(request={\n",
    "    \"file\": {\n",
    "        \"file_name\": \"messi-goals.mp4\",\n",
    "        \"content\": open(file_path, \"rb\"),\n",
    "    },\n",
    "    \"mode\": {\n",
    "        \"video\": \"audio_video\"\n",
    "    }\n",
    "})\n",
    "\n",
    "print(result)"
   ]
  },
  {
   "cell_type": "markdown",
   "metadata": {},
   "source": [
    "## Retrieval"
   ]
  },
  {
   "cell_type": "code",
   "execution_count": 12,
   "metadata": {},
   "outputs": [
    {
     "name": "stdout",
     "output_type": "stream",
     "text": [
      "scored_chunks=[ScoredChunk(text='{\"video_description\": \"Okay, here\\'s a detailed description of the video you sent:\\\\n\\\\n**General Description**\\\\n\\\\nThe video captures a goal scored by Lionel Messi during a FIFA World Cup match between Argentina and Mexico.  The angle of the video is from behind the goal at a high angle, allowing a clear view of the pitch, the players, and the crowd. The stadium is packed with spectators, and the overall atmosphere seems highly charged.\\\\n\\\\n**Visual Elements**\\\\n\\\\n*   **Scene:** The video shows a wide shot of the football pitch. We see the green grass of the field, various players in their respective kits (Argentina in light blue and white stripes, Mexico in green and white), and the referee in black.\\\\n*   **Details:** Advertising boards line the edge of the pitch, featuring logos like \\\\\"Qatar Airways\\\\\" and \\\\\"Qatar Energy.\\\\\" The stadium is filled with a large crowd, mostly out of focus.\\\\n*   **Action:**\\\\n    *   The game appears to be mid-action. We see the ball in play, being passed towards Messi.\\\\n    *   Messi receives the ball outside the penalty box and quickly takes a low shot towards the goal.\\\\n    *   The ball goes past the goalkeeper into the net.\\\\n    *   Messi and other Argentinian players celebrate the goal with excitement and joy.\\\\n\\\\n**On-Screen Graphics**\\\\n\\\\n*   **Scoreboard:** In the upper left corner, there\\'s a scoreboard that shows the match time (63:23 when the video starts), the teams playing (ARG vs. MEX), and the score (0-0). As the video continues, the score changes to 1-0, indicating the goal scored by Argentina.\\\\n*   **FIFA logo:** The FIFA logo is visible in the upper right corner of the screen.\\\\n\\\\n**Overall Impression**\\\\n\\\\nThe video captures a key moment of excitement and celebration in a World Cup match. The goal by Messi appears to be significant, judging by the reaction of the players and likely the crowd as well, although that is not able to be clearly heard. It is a typical sports highlight clip.\", \"audio_transcript\": \"\"}', score=0.1, id='7e7fd6f9-0071-4f6f-b5dc-e580a2cc425d', index=1, document_id='a24c92c4-0856-4c8b-8054-d34133b6c050', document_name='messi-goals.mp4', document_metadata={}, links={'self': Link(href='https://api.ragie.ai/documents/a24c92c4-0856-4c8b-8054-d34133b6c050/chunks/7e7fd6f9-0071-4f6f-b5dc-e580a2cc425d', type='application/json'), 'self_text': Link(href='https://api.ragie.ai/documents/a24c92c4-0856-4c8b-8054-d34133b6c050/chunks/7e7fd6f9-0071-4f6f-b5dc-e580a2cc425d/content?media_type=text/plain-text', type='text/plain-text'), 'document': Link(href='https://api.ragie.ai/documents/a24c92c4-0856-4c8b-8054-d34133b6c050', type='application/json'), 'document_text': Link(href='https://api.ragie.ai/documents/a24c92c4-0856-4c8b-8054-d34133b6c050/content?media_type=text/plain-text', type='text/plain-text'), 'self_audio_stream': Link(href='https://api.ragie.ai/documents/a24c92c4-0856-4c8b-8054-d34133b6c050/chunks/7e7fd6f9-0071-4f6f-b5dc-e580a2cc425d/content?media_type=audio/mpeg', type='audio/mpeg'), 'self_audio_download': Link(href='https://api.ragie.ai/documents/a24c92c4-0856-4c8b-8054-d34133b6c050/chunks/7e7fd6f9-0071-4f6f-b5dc-e580a2cc425d/content?media_type=audio/mpeg&download=true', type='audio/mpeg'), 'document_audio_stream': Link(href='https://api.ragie.ai/documents/a24c92c4-0856-4c8b-8054-d34133b6c050/content?media_type=audio/mpeg', type='audio/mpeg'), 'document_audio_download': Link(href='https://api.ragie.ai/documents/a24c92c4-0856-4c8b-8054-d34133b6c050/content?media_type=audio/mpeg&download=true', type='audio/mpeg'), 'self_video_stream': Link(href='https://api.ragie.ai/documents/a24c92c4-0856-4c8b-8054-d34133b6c050/chunks/7e7fd6f9-0071-4f6f-b5dc-e580a2cc425d/content?media_type=video/mp4', type='video/mp4'), 'self_video_download': Link(href='https://api.ragie.ai/documents/a24c92c4-0856-4c8b-8054-d34133b6c050/chunks/7e7fd6f9-0071-4f6f-b5dc-e580a2cc425d/content?media_type=video/mp4&download=true', type='video/mp4'), 'document_video_stream': Link(href='https://api.ragie.ai/documents/a24c92c4-0856-4c8b-8054-d34133b6c050/content?media_type=video/mp4', type='video/mp4'), 'document_video_download': Link(href='https://api.ragie.ai/documents/a24c92c4-0856-4c8b-8054-d34133b6c050/content?media_type=video/mp4&download=true', type='video/mp4')}, metadata={'end_time': 30.0, 'start_time': 15.0}), ScoredChunk(text='{\"video_description\": \"Okay, here\\\\u2019s a detailed description of the video:\\\\n\\\\n**Scene 1: Argentina vs. Mexico**\\\\n\\\\n*   The scene opens with Lionel Messi in an Argentina jersey with the number 10, dribbling the ball on a bright green soccer field. He\\'s surrounded by Mexican players in green jerseys. The camera focuses tightly on Messi as he moves.\\\\n*   Messi skillfully maneuvers the ball, eventually taking a shot with his left foot. The shot is low and to the right of the screen.\\\\n*   The camera then cuts to Messi\\'s face. He\\'s yelling, mouth open, arms extended in celebration. There are thousands of spectators in the background, a sea of green and white.\\\\n\\\\n**Scene 2: Argentina vs. Australia**\\\\n\\\\n*   The second scene opens on a wider shot of a different soccer field. The score is displayed as Argentina 0, Australia 0.\\\\n*   The camera shows a play developing in front of the Australian goal. There are several players from both teams. Players from Argentina wear white and light blue striped jerseys while players from Australia wear yellow jerseys.\\\\n*   There is a buildup to a shot. After several passes the ball makes its way through the defense and into the lower right corner of the net, scoring a goal for Argentina.\\\\n\\\\n**General Visuals:**\\\\n\\\\n*   The video appears to be high definition, with bright, crisp colors.\\\\n*   There are various stadium advertisements visible in the background in the first scene.\\\\n*   The stadium is packed with cheering fans, evident from the close-up shot of Messi\\'s celebration.\\\\n*   Overall, the video captures exciting moments from a soccer match, likely a major tournament like the FIFA World Cup given the uniforms and the FIFA logo visible.\", \"audio_transcript\": \"\"}', score=0.09090909090909091, id='19558373-dcb5-4bc7-8627-b94d438cf062', index=3, document_id='a24c92c4-0856-4c8b-8054-d34133b6c050', document_name='messi-goals.mp4', document_metadata={}, links={'self': Link(href='https://api.ragie.ai/documents/a24c92c4-0856-4c8b-8054-d34133b6c050/chunks/19558373-dcb5-4bc7-8627-b94d438cf062', type='application/json'), 'self_text': Link(href='https://api.ragie.ai/documents/a24c92c4-0856-4c8b-8054-d34133b6c050/chunks/19558373-dcb5-4bc7-8627-b94d438cf062/content?media_type=text/plain-text', type='text/plain-text'), 'document': Link(href='https://api.ragie.ai/documents/a24c92c4-0856-4c8b-8054-d34133b6c050', type='application/json'), 'document_text': Link(href='https://api.ragie.ai/documents/a24c92c4-0856-4c8b-8054-d34133b6c050/content?media_type=text/plain-text', type='text/plain-text'), 'self_audio_stream': Link(href='https://api.ragie.ai/documents/a24c92c4-0856-4c8b-8054-d34133b6c050/chunks/19558373-dcb5-4bc7-8627-b94d438cf062/content?media_type=audio/mpeg', type='audio/mpeg'), 'self_audio_download': Link(href='https://api.ragie.ai/documents/a24c92c4-0856-4c8b-8054-d34133b6c050/chunks/19558373-dcb5-4bc7-8627-b94d438cf062/content?media_type=audio/mpeg&download=true', type='audio/mpeg'), 'document_audio_stream': Link(href='https://api.ragie.ai/documents/a24c92c4-0856-4c8b-8054-d34133b6c050/content?media_type=audio/mpeg', type='audio/mpeg'), 'document_audio_download': Link(href='https://api.ragie.ai/documents/a24c92c4-0856-4c8b-8054-d34133b6c050/content?media_type=audio/mpeg&download=true', type='audio/mpeg'), 'self_video_stream': Link(href='https://api.ragie.ai/documents/a24c92c4-0856-4c8b-8054-d34133b6c050/chunks/19558373-dcb5-4bc7-8627-b94d438cf062/content?media_type=video/mp4', type='video/mp4'), 'self_video_download': Link(href='https://api.ragie.ai/documents/a24c92c4-0856-4c8b-8054-d34133b6c050/chunks/19558373-dcb5-4bc7-8627-b94d438cf062/content?media_type=video/mp4&download=true', type='video/mp4'), 'document_video_stream': Link(href='https://api.ragie.ai/documents/a24c92c4-0856-4c8b-8054-d34133b6c050/content?media_type=video/mp4', type='video/mp4'), 'document_video_download': Link(href='https://api.ragie.ai/documents/a24c92c4-0856-4c8b-8054-d34133b6c050/content?media_type=video/mp4&download=true', type='video/mp4')}, metadata={'end_time': 60.0, 'start_time': 45.0}), ScoredChunk(text='{\"video_description\": \"Certainly! Here\\'s a detailed description of the video provided:\\\\n\\\\n**General Overview**\\\\n\\\\nThe video shows highlights from a football (soccer) match, specifically penalty kicks and goal-scoring moments. The quality of the video is good, and the camera angles offer different perspectives. The footage is from the 2022 FIFA World Cup final between Argentina (ARG) and France (FRA).\\\\n\\\\n**Specific moments and details:**\\\\n\\\\n*   **0:00-0:01:** The first shot shows a goal attempt from the perspective of inside the goal. The keeper dives but the ball is kicked behind.\\\\n*   **0:02-0:08:** Lionel Messi is about to take a penalty. You can see the referee, opposing players, and a wide shot of the crowd behind the goal. Messi takes a penalty kick that scores. The camera is from behind and slightly to the left of the goal. The Argentinian players celebrate. The score goes up to 1-0.\\\\n*   **0:09-0:15:** The play is live on the other end of the pitch with several players from both teams converging on the goal. After multiple attempts, the ball is eventually kicked into the goal by Argentina.\\\\n\\\\n**Additional Elements**\\\\n\\\\n*   The video displays the FIFA logo.\\\\n*   There are perimeter advertisements visible around the field.\\\\n*   Crowd shots show enthusiastic fans.\\\\n*   Scoreboards on the screen indicate the current score and time.\\\\n\\\\n**Overall Impression**\\\\n\\\\nThe video provides exciting highlights from a high-stakes football match, capturing the intensity and emotion of the moments.\", \"audio_transcript\": \"\"}', score=0.08333333333333333, id='edc38dcc-cfa4-4de6-93cb-584b4fa6f1cd', index=7, document_id='a24c92c4-0856-4c8b-8054-d34133b6c050', document_name='messi-goals.mp4', document_metadata={}, links={'self': Link(href='https://api.ragie.ai/documents/a24c92c4-0856-4c8b-8054-d34133b6c050/chunks/edc38dcc-cfa4-4de6-93cb-584b4fa6f1cd', type='application/json'), 'self_text': Link(href='https://api.ragie.ai/documents/a24c92c4-0856-4c8b-8054-d34133b6c050/chunks/edc38dcc-cfa4-4de6-93cb-584b4fa6f1cd/content?media_type=text/plain-text', type='text/plain-text'), 'document': Link(href='https://api.ragie.ai/documents/a24c92c4-0856-4c8b-8054-d34133b6c050', type='application/json'), 'document_text': Link(href='https://api.ragie.ai/documents/a24c92c4-0856-4c8b-8054-d34133b6c050/content?media_type=text/plain-text', type='text/plain-text'), 'self_audio_stream': Link(href='https://api.ragie.ai/documents/a24c92c4-0856-4c8b-8054-d34133b6c050/chunks/edc38dcc-cfa4-4de6-93cb-584b4fa6f1cd/content?media_type=audio/mpeg', type='audio/mpeg'), 'self_audio_download': Link(href='https://api.ragie.ai/documents/a24c92c4-0856-4c8b-8054-d34133b6c050/chunks/edc38dcc-cfa4-4de6-93cb-584b4fa6f1cd/content?media_type=audio/mpeg&download=true', type='audio/mpeg'), 'document_audio_stream': Link(href='https://api.ragie.ai/documents/a24c92c4-0856-4c8b-8054-d34133b6c050/content?media_type=audio/mpeg', type='audio/mpeg'), 'document_audio_download': Link(href='https://api.ragie.ai/documents/a24c92c4-0856-4c8b-8054-d34133b6c050/content?media_type=audio/mpeg&download=true', type='audio/mpeg'), 'self_video_stream': Link(href='https://api.ragie.ai/documents/a24c92c4-0856-4c8b-8054-d34133b6c050/chunks/edc38dcc-cfa4-4de6-93cb-584b4fa6f1cd/content?media_type=video/mp4', type='video/mp4'), 'self_video_download': Link(href='https://api.ragie.ai/documents/a24c92c4-0856-4c8b-8054-d34133b6c050/chunks/edc38dcc-cfa4-4de6-93cb-584b4fa6f1cd/content?media_type=video/mp4&download=true', type='video/mp4'), 'document_video_stream': Link(href='https://api.ragie.ai/documents/a24c92c4-0856-4c8b-8054-d34133b6c050/content?media_type=video/mp4', type='video/mp4'), 'document_video_download': Link(href='https://api.ragie.ai/documents/a24c92c4-0856-4c8b-8054-d34133b6c050/content?media_type=video/mp4&download=true', type='video/mp4')}, metadata={'end_time': 120.0, 'start_time': 105.0}), ScoredChunk(text='{\"video_description\": \"Here is a description of the video:\\\\n\\\\nThe video opens with a shot of a soccer field during a FIFA match between Argentina and France. The score is 2-2 at 107:55 in the game. Players in the field are reacting to the soccer ball which is nearing the goal. After that is a close-up shot of the same scene, showing Messi scoring as a defender attempts to block the goal. \\\\n\\\\nThen the video shows a graphic of the FIFA logo and advertises \\\\\"The Free Streaming Platform\\\\\". It shows images of Messi and Ronaldo as a promotional clip.\", \"audio_transcript\": \"\"}', score=0.07692307692307693, id='63e36f88-b002-4e0f-a306-7f6d0f8ac6a5', index=8, document_id='a24c92c4-0856-4c8b-8054-d34133b6c050', document_name='messi-goals.mp4', document_metadata={}, links={'self': Link(href='https://api.ragie.ai/documents/a24c92c4-0856-4c8b-8054-d34133b6c050/chunks/63e36f88-b002-4e0f-a306-7f6d0f8ac6a5', type='application/json'), 'self_text': Link(href='https://api.ragie.ai/documents/a24c92c4-0856-4c8b-8054-d34133b6c050/chunks/63e36f88-b002-4e0f-a306-7f6d0f8ac6a5/content?media_type=text/plain-text', type='text/plain-text'), 'document': Link(href='https://api.ragie.ai/documents/a24c92c4-0856-4c8b-8054-d34133b6c050', type='application/json'), 'document_text': Link(href='https://api.ragie.ai/documents/a24c92c4-0856-4c8b-8054-d34133b6c050/content?media_type=text/plain-text', type='text/plain-text'), 'self_audio_stream': Link(href='https://api.ragie.ai/documents/a24c92c4-0856-4c8b-8054-d34133b6c050/chunks/63e36f88-b002-4e0f-a306-7f6d0f8ac6a5/content?media_type=audio/mpeg', type='audio/mpeg'), 'self_audio_download': Link(href='https://api.ragie.ai/documents/a24c92c4-0856-4c8b-8054-d34133b6c050/chunks/63e36f88-b002-4e0f-a306-7f6d0f8ac6a5/content?media_type=audio/mpeg&download=true', type='audio/mpeg'), 'document_audio_stream': Link(href='https://api.ragie.ai/documents/a24c92c4-0856-4c8b-8054-d34133b6c050/content?media_type=audio/mpeg', type='audio/mpeg'), 'document_audio_download': Link(href='https://api.ragie.ai/documents/a24c92c4-0856-4c8b-8054-d34133b6c050/content?media_type=audio/mpeg&download=true', type='audio/mpeg'), 'self_video_stream': Link(href='https://api.ragie.ai/documents/a24c92c4-0856-4c8b-8054-d34133b6c050/chunks/63e36f88-b002-4e0f-a306-7f6d0f8ac6a5/content?media_type=video/mp4', type='video/mp4'), 'self_video_download': Link(href='https://api.ragie.ai/documents/a24c92c4-0856-4c8b-8054-d34133b6c050/chunks/63e36f88-b002-4e0f-a306-7f6d0f8ac6a5/content?media_type=video/mp4&download=true', type='video/mp4'), 'document_video_stream': Link(href='https://api.ragie.ai/documents/a24c92c4-0856-4c8b-8054-d34133b6c050/content?media_type=video/mp4', type='video/mp4'), 'document_video_download': Link(href='https://api.ragie.ai/documents/a24c92c4-0856-4c8b-8054-d34133b6c050/content?media_type=video/mp4&download=true', type='video/mp4')}, metadata={'end_time': 135.0, 'start_time': 120.0}), ScoredChunk(text='{\"video_description\": \"Here\\'s a detailed description of the video, breaking down the action and reactions:\\\\n\\\\n**Overall Impression:**\\\\nThe video shows Lionel Messi scoring a goal for Argentina in a World Cup match against Australia. It captures the immediate aftermath, including his celebration with teammates and a closer replay of the goal.\\\\n\\\\n**Visual Breakdown:**\\\\n\\\\n*   **Setting:** The scene is a soccer stadium during the day, packed with fans.\\\\n\\\\n*   **Initial Shot (0:00-0:00):**\\\\n    *   The camera angle is high, showing a wide view of the field near the Australian goal.\\\\n    *   Players from both teams are positioned around the penalty area.\\\\n    *   The scoreboard in the upper left corner indicates the game is at 34:34 and the score is Argentina 0, Australia 0.\\\\n    *   The ball is in the box, causing a scramble.\\\\n\\\\n*   **Goal and Immediate Reaction (0:00-0:07):**\\\\n    *   Messi scores with a low shot that goes into the corner of the net.\\\\n    *   He wheels away in celebration, raising his arms.\\\\n    *   The scoreboard updates to show Argentina 1, Australia 0.\\\\n    *   Argentinian teammates rush to embrace Messi. There is collective excitement, with some teammates jumping in the air.\\\\n    *   The crowd is a blur of excitement in the background.\\\\n\\\\n*   **Goal Replay (0:07-0:15):**\\\\n    *   The camera switches to a behind-the-goal view.\\\\n    *   The replay shows Messi maneuvering through the Australian defense.\\\\n    *   He finds a small opening and shoots the ball just past the diving goalkeeper\\'s reach.\\\\n    *   The replay emphasizes the close quarters and the skillful nature of Messi\\'s goal.\\\\n    *   The angle highlights the goalkeeper\\'s desperate dive and the close proximity of other defenders, highlighting Messi\\'s ability to create space in a tight area.\\\\n\\\\n**Key Details:**\\\\n\\\\n*   **Player Identification:** The video prominently features Lionel Messi (#10) in Argentina\\'s blue and white striped jersey.\\\\n*   **FIFA Branding:** The FIFA logo appears, confirming the event is an official FIFA-sanctioned match.\\\\n*   **Excitement:** The overall atmosphere is electric, filled with the elation of a goal scored in a high-stakes game. The shouts and cheers from the crowd are not included, but are easily imagined.\\\\n\\\\n**In Summary:** The video is a short but dynamic clip capturing a key moment: Messi scoring a goal in a crucial World Cup match. It conveys the excitement, skill, and team spirit associated with such a significant event.\", \"audio_transcript\": \"\"}', score=0.07142857142857142, id='87357b4e-5359-490b-b9ee-672d4b863088', index=4, document_id='a24c92c4-0856-4c8b-8054-d34133b6c050', document_name='messi-goals.mp4', document_metadata={}, links={'self': Link(href='https://api.ragie.ai/documents/a24c92c4-0856-4c8b-8054-d34133b6c050/chunks/87357b4e-5359-490b-b9ee-672d4b863088', type='application/json'), 'self_text': Link(href='https://api.ragie.ai/documents/a24c92c4-0856-4c8b-8054-d34133b6c050/chunks/87357b4e-5359-490b-b9ee-672d4b863088/content?media_type=text/plain-text', type='text/plain-text'), 'document': Link(href='https://api.ragie.ai/documents/a24c92c4-0856-4c8b-8054-d34133b6c050', type='application/json'), 'document_text': Link(href='https://api.ragie.ai/documents/a24c92c4-0856-4c8b-8054-d34133b6c050/content?media_type=text/plain-text', type='text/plain-text'), 'self_audio_stream': Link(href='https://api.ragie.ai/documents/a24c92c4-0856-4c8b-8054-d34133b6c050/chunks/87357b4e-5359-490b-b9ee-672d4b863088/content?media_type=audio/mpeg', type='audio/mpeg'), 'self_audio_download': Link(href='https://api.ragie.ai/documents/a24c92c4-0856-4c8b-8054-d34133b6c050/chunks/87357b4e-5359-490b-b9ee-672d4b863088/content?media_type=audio/mpeg&download=true', type='audio/mpeg'), 'document_audio_stream': Link(href='https://api.ragie.ai/documents/a24c92c4-0856-4c8b-8054-d34133b6c050/content?media_type=audio/mpeg', type='audio/mpeg'), 'document_audio_download': Link(href='https://api.ragie.ai/documents/a24c92c4-0856-4c8b-8054-d34133b6c050/content?media_type=audio/mpeg&download=true', type='audio/mpeg'), 'self_video_stream': Link(href='https://api.ragie.ai/documents/a24c92c4-0856-4c8b-8054-d34133b6c050/chunks/87357b4e-5359-490b-b9ee-672d4b863088/content?media_type=video/mp4', type='video/mp4'), 'self_video_download': Link(href='https://api.ragie.ai/documents/a24c92c4-0856-4c8b-8054-d34133b6c050/chunks/87357b4e-5359-490b-b9ee-672d4b863088/content?media_type=video/mp4&download=true', type='video/mp4'), 'document_video_stream': Link(href='https://api.ragie.ai/documents/a24c92c4-0856-4c8b-8054-d34133b6c050/content?media_type=video/mp4', type='video/mp4'), 'document_video_download': Link(href='https://api.ragie.ai/documents/a24c92c4-0856-4c8b-8054-d34133b6c050/content?media_type=video/mp4&download=true', type='video/mp4')}, metadata={'end_time': 75.0, 'start_time': 60.0}), ScoredChunk(text='{\"video_description\": \"Here\\'s a detailed description of the video:\\\\n\\\\n**Visuals:**\\\\n\\\\n*   **Close-up of Messi:** The video opens with a close-up of Lionel Messi\\'s face. He has a short, dark haircut and a beard. He looks focused and perhaps a bit serious. He\\\\u2019s wearing the Argentina national team jersey, recognizable by its iconic blue and white stripes.\\\\n*   **Wide shot of the Penalty Kick:** The camera pulls back to show the whole pitch and stadium. The view is from behind and to the side of the goal. Players from both Argentina (in blue and white) and Saudi Arabia (in green) are positioned around the penalty area. The stadium is packed with spectators, many of whom are waving flags, creating a sea of color.\\\\n*   **The Penalty Shot:** Messi takes the penalty. He strikes the ball with his left foot.\\\\n*   **Goal and Celebration:** The ball goes into the net! The Argentinian players erupt in celebration, running to hug and congratulate Messi. There\\'s a close-up of Messi as he celebrates with his teammates.\\\\n*   **View from behind the goal:** Another angle shows Messi\\\\u2019s shot from behind the goal, the goalie sprawled on the ground as the ball reaches the net.\\\\n\\\\n**Audio:**\\\\n\\\\n*   There\\'s excited commentary and loud cheering from the crowd throughout the video.\\\\n*   The eruption of sound is especially intense when Messi scores the goal.\\\\n\\\\n**Overall Impression:**\\\\n\\\\nThe video captures a pivotal moment during a soccer match. The focus is on Messi taking a penalty kick and successfully scoring, leading to jubilant celebrations among the Argentinian team and their fans. It\\'s a high-energy, exciting clip showing the passion and intensity of a major soccer game.\", \"audio_transcript\": \"\"}', score=0.06666666666666667, id='078dbadb-c619-4485-a8c7-14836fac8b6d', index=0, document_id='a24c92c4-0856-4c8b-8054-d34133b6c050', document_name='messi-goals.mp4', document_metadata={}, links={'self': Link(href='https://api.ragie.ai/documents/a24c92c4-0856-4c8b-8054-d34133b6c050/chunks/078dbadb-c619-4485-a8c7-14836fac8b6d', type='application/json'), 'self_text': Link(href='https://api.ragie.ai/documents/a24c92c4-0856-4c8b-8054-d34133b6c050/chunks/078dbadb-c619-4485-a8c7-14836fac8b6d/content?media_type=text/plain-text', type='text/plain-text'), 'document': Link(href='https://api.ragie.ai/documents/a24c92c4-0856-4c8b-8054-d34133b6c050', type='application/json'), 'document_text': Link(href='https://api.ragie.ai/documents/a24c92c4-0856-4c8b-8054-d34133b6c050/content?media_type=text/plain-text', type='text/plain-text'), 'self_audio_stream': Link(href='https://api.ragie.ai/documents/a24c92c4-0856-4c8b-8054-d34133b6c050/chunks/078dbadb-c619-4485-a8c7-14836fac8b6d/content?media_type=audio/mpeg', type='audio/mpeg'), 'self_audio_download': Link(href='https://api.ragie.ai/documents/a24c92c4-0856-4c8b-8054-d34133b6c050/chunks/078dbadb-c619-4485-a8c7-14836fac8b6d/content?media_type=audio/mpeg&download=true', type='audio/mpeg'), 'document_audio_stream': Link(href='https://api.ragie.ai/documents/a24c92c4-0856-4c8b-8054-d34133b6c050/content?media_type=audio/mpeg', type='audio/mpeg'), 'document_audio_download': Link(href='https://api.ragie.ai/documents/a24c92c4-0856-4c8b-8054-d34133b6c050/content?media_type=audio/mpeg&download=true', type='audio/mpeg'), 'self_video_stream': Link(href='https://api.ragie.ai/documents/a24c92c4-0856-4c8b-8054-d34133b6c050/chunks/078dbadb-c619-4485-a8c7-14836fac8b6d/content?media_type=video/mp4', type='video/mp4'), 'self_video_download': Link(href='https://api.ragie.ai/documents/a24c92c4-0856-4c8b-8054-d34133b6c050/chunks/078dbadb-c619-4485-a8c7-14836fac8b6d/content?media_type=video/mp4&download=true', type='video/mp4'), 'document_video_stream': Link(href='https://api.ragie.ai/documents/a24c92c4-0856-4c8b-8054-d34133b6c050/content?media_type=video/mp4', type='video/mp4'), 'document_video_download': Link(href='https://api.ragie.ai/documents/a24c92c4-0856-4c8b-8054-d34133b6c050/content?media_type=video/mp4&download=true', type='video/mp4')}, metadata={'end_time': 15.0, 'start_time': 0.0}), ScoredChunk(text='{\"video_description\": \"Okay, here\\\\u2019s a detailed description of the video:\\\\n\\\\n**Visuals:**\\\\n\\\\n*   **Opening:** The video begins with a deep blue gradient background. The word \\\\\"NEWS\\\\\" is repeated multiple times, gradually blurring in the background. There are two symmetrical starburst-like graphics, one in each of the upper corners.\\\\n*   **Devices:**  A laptop and a smartphone \\\\\"float\\\\\" into the frame. The laptop\\'s screen shows a scene from a documentary or movie titled \\\\\"The Girls of Favela Street\\\\\". The smartphone displays the FIFA+ logo.\\\\n*   **FIFA+ Content:**  The smartphone screen transitions to show various options available on the FIFA+ platform, including live matches and news.\\\\n*   **Highlight Reel:** The video shows short clips of soccer/football content.\\\\n    *   A brief shot of a game, with the score showing France 1-2 Argentina, and the time stamp 56:48\\\\n    *   A close up of soccer player\\'s cleat on the turf.\\\\n    *   The Argentina team celebrating with the World Cup trophy.\\\\n    *   A woman balancing a soccer ball on her head.\\\\n    *   A woman smiling at the camera.\\\\n\\\\n**Text:**\\\\n\\\\n*   The words, \\\\\"NEWS, HIGHLIGHTS, REACTION, DOCS\\\\\" appear repeated, and then more clearly in the center of the screen.\\\\n*   Words flash on the screen, \\\\\"EVERYTHING, EVERYTHING, IN ONE PLACE.\\\\\"\\\\n\\\\n**Overall Impression:**\\\\n\\\\nThe video appears to be a promo for the FIFA+ streaming service. It highlights the range of content available on the platform (news, highlights, reactions, documentaries, and live matches) and conveys the message that FIFA+ provides access to \\\\\"everything\\\\\" football in one place. The choice of visuals \\\\u2013 modern devices, dynamic game footage, and uplifting clips \\\\u2013 aims to portray FIFA+ as a modern and accessible platform for football fans.\", \"audio_transcript\": \"\"}', score=0.0625, id='b6888a8c-0db4-4159-b2c0-a9f76e4e8765', index=9, document_id='a24c92c4-0856-4c8b-8054-d34133b6c050', document_name='messi-goals.mp4', document_metadata={}, links={'self': Link(href='https://api.ragie.ai/documents/a24c92c4-0856-4c8b-8054-d34133b6c050/chunks/b6888a8c-0db4-4159-b2c0-a9f76e4e8765', type='application/json'), 'self_text': Link(href='https://api.ragie.ai/documents/a24c92c4-0856-4c8b-8054-d34133b6c050/chunks/b6888a8c-0db4-4159-b2c0-a9f76e4e8765/content?media_type=text/plain-text', type='text/plain-text'), 'document': Link(href='https://api.ragie.ai/documents/a24c92c4-0856-4c8b-8054-d34133b6c050', type='application/json'), 'document_text': Link(href='https://api.ragie.ai/documents/a24c92c4-0856-4c8b-8054-d34133b6c050/content?media_type=text/plain-text', type='text/plain-text'), 'self_audio_stream': Link(href='https://api.ragie.ai/documents/a24c92c4-0856-4c8b-8054-d34133b6c050/chunks/b6888a8c-0db4-4159-b2c0-a9f76e4e8765/content?media_type=audio/mpeg', type='audio/mpeg'), 'self_audio_download': Link(href='https://api.ragie.ai/documents/a24c92c4-0856-4c8b-8054-d34133b6c050/chunks/b6888a8c-0db4-4159-b2c0-a9f76e4e8765/content?media_type=audio/mpeg&download=true', type='audio/mpeg'), 'document_audio_stream': Link(href='https://api.ragie.ai/documents/a24c92c4-0856-4c8b-8054-d34133b6c050/content?media_type=audio/mpeg', type='audio/mpeg'), 'document_audio_download': Link(href='https://api.ragie.ai/documents/a24c92c4-0856-4c8b-8054-d34133b6c050/content?media_type=audio/mpeg&download=true', type='audio/mpeg'), 'self_video_stream': Link(href='https://api.ragie.ai/documents/a24c92c4-0856-4c8b-8054-d34133b6c050/chunks/b6888a8c-0db4-4159-b2c0-a9f76e4e8765/content?media_type=video/mp4', type='video/mp4'), 'self_video_download': Link(href='https://api.ragie.ai/documents/a24c92c4-0856-4c8b-8054-d34133b6c050/chunks/b6888a8c-0db4-4159-b2c0-a9f76e4e8765/content?media_type=video/mp4&download=true', type='video/mp4'), 'document_video_stream': Link(href='https://api.ragie.ai/documents/a24c92c4-0856-4c8b-8054-d34133b6c050/content?media_type=video/mp4', type='video/mp4'), 'document_video_download': Link(href='https://api.ragie.ai/documents/a24c92c4-0856-4c8b-8054-d34133b6c050/content?media_type=video/mp4&download=true', type='video/mp4')}, metadata={'end_time': 146.564354, 'start_time': 135.0}), ScoredChunk(text='{\"video_description\": \"Here is a description of the video:\\\\n\\\\nThe video shows a soccer/football game between Argentina and Mexico. At 63:38, the score is Argentina 1, Mexico 0. The clip shows the Argentinian players celebrating a goal. The players are wearing white and blue striped jerseys. They are jumping and hugging each other in excitement.\\\\u00a0\\\\n\\\\nThe next angle is a replay of the goal. The shot is taken from behind the goal of Mexico. It shows Lionel Messi (#10) kicking the soccer ball towards the goal, with the goalkeeper of Mexico attempting to block it. He is unsuccessful.\\\\n\\\\nA final shot then shows the empty goal after the successful kick from Lionel Messi.\", \"audio_transcript\": \"\"}', score=0.058823529411764705, id='a448fb43-5108-4f63-8d49-9766c525897a', index=2, document_id='a24c92c4-0856-4c8b-8054-d34133b6c050', document_name='messi-goals.mp4', document_metadata={}, links={'self': Link(href='https://api.ragie.ai/documents/a24c92c4-0856-4c8b-8054-d34133b6c050/chunks/a448fb43-5108-4f63-8d49-9766c525897a', type='application/json'), 'self_text': Link(href='https://api.ragie.ai/documents/a24c92c4-0856-4c8b-8054-d34133b6c050/chunks/a448fb43-5108-4f63-8d49-9766c525897a/content?media_type=text/plain-text', type='text/plain-text'), 'document': Link(href='https://api.ragie.ai/documents/a24c92c4-0856-4c8b-8054-d34133b6c050', type='application/json'), 'document_text': Link(href='https://api.ragie.ai/documents/a24c92c4-0856-4c8b-8054-d34133b6c050/content?media_type=text/plain-text', type='text/plain-text'), 'self_audio_stream': Link(href='https://api.ragie.ai/documents/a24c92c4-0856-4c8b-8054-d34133b6c050/chunks/a448fb43-5108-4f63-8d49-9766c525897a/content?media_type=audio/mpeg', type='audio/mpeg'), 'self_audio_download': Link(href='https://api.ragie.ai/documents/a24c92c4-0856-4c8b-8054-d34133b6c050/chunks/a448fb43-5108-4f63-8d49-9766c525897a/content?media_type=audio/mpeg&download=true', type='audio/mpeg'), 'document_audio_stream': Link(href='https://api.ragie.ai/documents/a24c92c4-0856-4c8b-8054-d34133b6c050/content?media_type=audio/mpeg', type='audio/mpeg'), 'document_audio_download': Link(href='https://api.ragie.ai/documents/a24c92c4-0856-4c8b-8054-d34133b6c050/content?media_type=audio/mpeg&download=true', type='audio/mpeg'), 'self_video_stream': Link(href='https://api.ragie.ai/documents/a24c92c4-0856-4c8b-8054-d34133b6c050/chunks/a448fb43-5108-4f63-8d49-9766c525897a/content?media_type=video/mp4', type='video/mp4'), 'self_video_download': Link(href='https://api.ragie.ai/documents/a24c92c4-0856-4c8b-8054-d34133b6c050/chunks/a448fb43-5108-4f63-8d49-9766c525897a/content?media_type=video/mp4&download=true', type='video/mp4'), 'document_video_stream': Link(href='https://api.ragie.ai/documents/a24c92c4-0856-4c8b-8054-d34133b6c050/content?media_type=video/mp4', type='video/mp4'), 'document_video_download': Link(href='https://api.ragie.ai/documents/a24c92c4-0856-4c8b-8054-d34133b6c050/content?media_type=video/mp4&download=true', type='video/mp4')}, metadata={'end_time': 45.0, 'start_time': 30.0})]\n"
     ]
    }
   ],
   "source": [
    "response =  ragie.retrievals.retrieve(request={\n",
    "    \"query\": \"Give detailed description of the video with timestamps of the events\"\n",
    "})\n",
    "\n",
    "print(response)"
   ]
  },
  {
   "cell_type": "code",
   "execution_count": 13,
   "metadata": {},
   "outputs": [
    {
     "name": "stdout",
     "output_type": "stream",
     "text": [
      "{\"video_description\": \"Okay, here's a detailed description of the video you sent:\\n\\n**General Description**\\n\\nThe video captures a goal scored by Lionel Messi during a FIFA World Cup match between Argentina and Mexico.  The angle of the video is from behind the goal at a high angle, allowing a clear view of the pitch, the players, and the crowd. The stadium is packed with spectators, and the overall atmosphere seems highly charged.\\n\\n**Visual Elements**\\n\\n*   **Scene:** The video shows a wide shot of the football pitch. We see the green grass of the field, various players in their respective kits (Argentina in light blue and white stripes, Mexico in green and white), and the referee in black.\\n*   **Details:** Advertising boards line the edge of the pitch, featuring logos like \\\"Qatar Airways\\\" and \\\"Qatar Energy.\\\" The stadium is filled with a large crowd, mostly out of focus.\\n*   **Action:**\\n    *   The game appears to be mid-action. We see the ball in play, being passed towards Messi.\\n    *   Messi receives the ball outside the penalty box and quickly takes a low shot towards the goal.\\n    *   The ball goes past the goalkeeper into the net.\\n    *   Messi and other Argentinian players celebrate the goal with excitement and joy.\\n\\n**On-Screen Graphics**\\n\\n*   **Scoreboard:** In the upper left corner, there's a scoreboard that shows the match time (63:23 when the video starts), the teams playing (ARG vs. MEX), and the score (0-0). As the video continues, the score changes to 1-0, indicating the goal scored by Argentina.\\n*   **FIFA logo:** The FIFA logo is visible in the upper right corner of the screen.\\n\\n**Overall Impression**\\n\\nThe video captures a key moment of excitement and celebration in a World Cup match. The goal by Messi appears to be significant, judging by the reaction of the players and likely the crowd as well, although that is not able to be clearly heard. It is a typical sports highlight clip.\", \"audio_transcript\": \"\"}\n",
      "####################################################################################################\n",
      "{\"video_description\": \"Okay, here\\u2019s a detailed description of the video:\\n\\n**Scene 1: Argentina vs. Mexico**\\n\\n*   The scene opens with Lionel Messi in an Argentina jersey with the number 10, dribbling the ball on a bright green soccer field. He's surrounded by Mexican players in green jerseys. The camera focuses tightly on Messi as he moves.\\n*   Messi skillfully maneuvers the ball, eventually taking a shot with his left foot. The shot is low and to the right of the screen.\\n*   The camera then cuts to Messi's face. He's yelling, mouth open, arms extended in celebration. There are thousands of spectators in the background, a sea of green and white.\\n\\n**Scene 2: Argentina vs. Australia**\\n\\n*   The second scene opens on a wider shot of a different soccer field. The score is displayed as Argentina 0, Australia 0.\\n*   The camera shows a play developing in front of the Australian goal. There are several players from both teams. Players from Argentina wear white and light blue striped jerseys while players from Australia wear yellow jerseys.\\n*   There is a buildup to a shot. After several passes the ball makes its way through the defense and into the lower right corner of the net, scoring a goal for Argentina.\\n\\n**General Visuals:**\\n\\n*   The video appears to be high definition, with bright, crisp colors.\\n*   There are various stadium advertisements visible in the background in the first scene.\\n*   The stadium is packed with cheering fans, evident from the close-up shot of Messi's celebration.\\n*   Overall, the video captures exciting moments from a soccer match, likely a major tournament like the FIFA World Cup given the uniforms and the FIFA logo visible.\", \"audio_transcript\": \"\"}\n",
      "####################################################################################################\n",
      "{\"video_description\": \"Certainly! Here's a detailed description of the video provided:\\n\\n**General Overview**\\n\\nThe video shows highlights from a football (soccer) match, specifically penalty kicks and goal-scoring moments. The quality of the video is good, and the camera angles offer different perspectives. The footage is from the 2022 FIFA World Cup final between Argentina (ARG) and France (FRA).\\n\\n**Specific moments and details:**\\n\\n*   **0:00-0:01:** The first shot shows a goal attempt from the perspective of inside the goal. The keeper dives but the ball is kicked behind.\\n*   **0:02-0:08:** Lionel Messi is about to take a penalty. You can see the referee, opposing players, and a wide shot of the crowd behind the goal. Messi takes a penalty kick that scores. The camera is from behind and slightly to the left of the goal. The Argentinian players celebrate. The score goes up to 1-0.\\n*   **0:09-0:15:** The play is live on the other end of the pitch with several players from both teams converging on the goal. After multiple attempts, the ball is eventually kicked into the goal by Argentina.\\n\\n**Additional Elements**\\n\\n*   The video displays the FIFA logo.\\n*   There are perimeter advertisements visible around the field.\\n*   Crowd shots show enthusiastic fans.\\n*   Scoreboards on the screen indicate the current score and time.\\n\\n**Overall Impression**\\n\\nThe video provides exciting highlights from a high-stakes football match, capturing the intensity and emotion of the moments.\", \"audio_transcript\": \"\"}\n",
      "####################################################################################################\n",
      "{\"video_description\": \"Here is a description of the video:\\n\\nThe video opens with a shot of a soccer field during a FIFA match between Argentina and France. The score is 2-2 at 107:55 in the game. Players in the field are reacting to the soccer ball which is nearing the goal. After that is a close-up shot of the same scene, showing Messi scoring as a defender attempts to block the goal. \\n\\nThen the video shows a graphic of the FIFA logo and advertises \\\"The Free Streaming Platform\\\". It shows images of Messi and Ronaldo as a promotional clip.\", \"audio_transcript\": \"\"}\n",
      "####################################################################################################\n",
      "{\"video_description\": \"Here's a detailed description of the video, breaking down the action and reactions:\\n\\n**Overall Impression:**\\nThe video shows Lionel Messi scoring a goal for Argentina in a World Cup match against Australia. It captures the immediate aftermath, including his celebration with teammates and a closer replay of the goal.\\n\\n**Visual Breakdown:**\\n\\n*   **Setting:** The scene is a soccer stadium during the day, packed with fans.\\n\\n*   **Initial Shot (0:00-0:00):**\\n    *   The camera angle is high, showing a wide view of the field near the Australian goal.\\n    *   Players from both teams are positioned around the penalty area.\\n    *   The scoreboard in the upper left corner indicates the game is at 34:34 and the score is Argentina 0, Australia 0.\\n    *   The ball is in the box, causing a scramble.\\n\\n*   **Goal and Immediate Reaction (0:00-0:07):**\\n    *   Messi scores with a low shot that goes into the corner of the net.\\n    *   He wheels away in celebration, raising his arms.\\n    *   The scoreboard updates to show Argentina 1, Australia 0.\\n    *   Argentinian teammates rush to embrace Messi. There is collective excitement, with some teammates jumping in the air.\\n    *   The crowd is a blur of excitement in the background.\\n\\n*   **Goal Replay (0:07-0:15):**\\n    *   The camera switches to a behind-the-goal view.\\n    *   The replay shows Messi maneuvering through the Australian defense.\\n    *   He finds a small opening and shoots the ball just past the diving goalkeeper's reach.\\n    *   The replay emphasizes the close quarters and the skillful nature of Messi's goal.\\n    *   The angle highlights the goalkeeper's desperate dive and the close proximity of other defenders, highlighting Messi's ability to create space in a tight area.\\n\\n**Key Details:**\\n\\n*   **Player Identification:** The video prominently features Lionel Messi (#10) in Argentina's blue and white striped jersey.\\n*   **FIFA Branding:** The FIFA logo appears, confirming the event is an official FIFA-sanctioned match.\\n*   **Excitement:** The overall atmosphere is electric, filled with the elation of a goal scored in a high-stakes game. The shouts and cheers from the crowd are not included, but are easily imagined.\\n\\n**In Summary:** The video is a short but dynamic clip capturing a key moment: Messi scoring a goal in a crucial World Cup match. It conveys the excitement, skill, and team spirit associated with such a significant event.\", \"audio_transcript\": \"\"}\n",
      "####################################################################################################\n",
      "{\"video_description\": \"Here's a detailed description of the video:\\n\\n**Visuals:**\\n\\n*   **Close-up of Messi:** The video opens with a close-up of Lionel Messi's face. He has a short, dark haircut and a beard. He looks focused and perhaps a bit serious. He\\u2019s wearing the Argentina national team jersey, recognizable by its iconic blue and white stripes.\\n*   **Wide shot of the Penalty Kick:** The camera pulls back to show the whole pitch and stadium. The view is from behind and to the side of the goal. Players from both Argentina (in blue and white) and Saudi Arabia (in green) are positioned around the penalty area. The stadium is packed with spectators, many of whom are waving flags, creating a sea of color.\\n*   **The Penalty Shot:** Messi takes the penalty. He strikes the ball with his left foot.\\n*   **Goal and Celebration:** The ball goes into the net! The Argentinian players erupt in celebration, running to hug and congratulate Messi. There's a close-up of Messi as he celebrates with his teammates.\\n*   **View from behind the goal:** Another angle shows Messi\\u2019s shot from behind the goal, the goalie sprawled on the ground as the ball reaches the net.\\n\\n**Audio:**\\n\\n*   There's excited commentary and loud cheering from the crowd throughout the video.\\n*   The eruption of sound is especially intense when Messi scores the goal.\\n\\n**Overall Impression:**\\n\\nThe video captures a pivotal moment during a soccer match. The focus is on Messi taking a penalty kick and successfully scoring, leading to jubilant celebrations among the Argentinian team and their fans. It's a high-energy, exciting clip showing the passion and intensity of a major soccer game.\", \"audio_transcript\": \"\"}\n",
      "####################################################################################################\n",
      "{\"video_description\": \"Okay, here\\u2019s a detailed description of the video:\\n\\n**Visuals:**\\n\\n*   **Opening:** The video begins with a deep blue gradient background. The word \\\"NEWS\\\" is repeated multiple times, gradually blurring in the background. There are two symmetrical starburst-like graphics, one in each of the upper corners.\\n*   **Devices:**  A laptop and a smartphone \\\"float\\\" into the frame. The laptop's screen shows a scene from a documentary or movie titled \\\"The Girls of Favela Street\\\". The smartphone displays the FIFA+ logo.\\n*   **FIFA+ Content:**  The smartphone screen transitions to show various options available on the FIFA+ platform, including live matches and news.\\n*   **Highlight Reel:** The video shows short clips of soccer/football content.\\n    *   A brief shot of a game, with the score showing France 1-2 Argentina, and the time stamp 56:48\\n    *   A close up of soccer player's cleat on the turf.\\n    *   The Argentina team celebrating with the World Cup trophy.\\n    *   A woman balancing a soccer ball on her head.\\n    *   A woman smiling at the camera.\\n\\n**Text:**\\n\\n*   The words, \\\"NEWS, HIGHLIGHTS, REACTION, DOCS\\\" appear repeated, and then more clearly in the center of the screen.\\n*   Words flash on the screen, \\\"EVERYTHING, EVERYTHING, IN ONE PLACE.\\\"\\n\\n**Overall Impression:**\\n\\nThe video appears to be a promo for the FIFA+ streaming service. It highlights the range of content available on the platform (news, highlights, reactions, documentaries, and live matches) and conveys the message that FIFA+ provides access to \\\"everything\\\" football in one place. The choice of visuals \\u2013 modern devices, dynamic game footage, and uplifting clips \\u2013 aims to portray FIFA+ as a modern and accessible platform for football fans.\", \"audio_transcript\": \"\"}\n",
      "####################################################################################################\n",
      "{\"video_description\": \"Here is a description of the video:\\n\\nThe video shows a soccer/football game between Argentina and Mexico. At 63:38, the score is Argentina 1, Mexico 0. The clip shows the Argentinian players celebrating a goal. The players are wearing white and blue striped jerseys. They are jumping and hugging each other in excitement.\\u00a0\\n\\nThe next angle is a replay of the goal. The shot is taken from behind the goal of Mexico. It shows Lionel Messi (#10) kicking the soccer ball towards the goal, with the goalkeeper of Mexico attempting to block it. He is unsuccessful.\\n\\nA final shot then shows the empty goal after the successful kick from Lionel Messi.\", \"audio_transcript\": \"\"}\n",
      "####################################################################################################\n"
     ]
    }
   ],
   "source": [
    "content = []\n",
    "for chunk in response.scored_chunks:\n",
    "    print(chunk.text)\n",
    "    print(\"#\"*100)\n",
    "    content.append({\n",
    "            **chunk.document_metadata,\n",
    "            \"text\": chunk.text,\n",
    "            \"document_name\": chunk.document_name,\n",
    "            \"start_time\": chunk.metadata.get(\"start_time\"),\n",
    "            \"end_time\": chunk.metadata.get(\"end_time\")\n",
    "        })"
   ]
  },
  {
   "cell_type": "markdown",
   "metadata": {},
   "source": [
    "## Video chunk creation"
   ]
  },
  {
   "cell_type": "code",
   "execution_count": 14,
   "metadata": {},
   "outputs": [
    {
     "data": {
      "text/plain": [
       "{'text': '{\"video_description\": \"Okay, here\\'s a detailed description of the video you sent:\\\\n\\\\n**General Description**\\\\n\\\\nThe video captures a goal scored by Lionel Messi during a FIFA World Cup match between Argentina and Mexico.  The angle of the video is from behind the goal at a high angle, allowing a clear view of the pitch, the players, and the crowd. The stadium is packed with spectators, and the overall atmosphere seems highly charged.\\\\n\\\\n**Visual Elements**\\\\n\\\\n*   **Scene:** The video shows a wide shot of the football pitch. We see the green grass of the field, various players in their respective kits (Argentina in light blue and white stripes, Mexico in green and white), and the referee in black.\\\\n*   **Details:** Advertising boards line the edge of the pitch, featuring logos like \\\\\"Qatar Airways\\\\\" and \\\\\"Qatar Energy.\\\\\" The stadium is filled with a large crowd, mostly out of focus.\\\\n*   **Action:**\\\\n    *   The game appears to be mid-action. We see the ball in play, being passed towards Messi.\\\\n    *   Messi receives the ball outside the penalty box and quickly takes a low shot towards the goal.\\\\n    *   The ball goes past the goalkeeper into the net.\\\\n    *   Messi and other Argentinian players celebrate the goal with excitement and joy.\\\\n\\\\n**On-Screen Graphics**\\\\n\\\\n*   **Scoreboard:** In the upper left corner, there\\'s a scoreboard that shows the match time (63:23 when the video starts), the teams playing (ARG vs. MEX), and the score (0-0). As the video continues, the score changes to 1-0, indicating the goal scored by Argentina.\\\\n*   **FIFA logo:** The FIFA logo is visible in the upper right corner of the screen.\\\\n\\\\n**Overall Impression**\\\\n\\\\nThe video captures a key moment of excitement and celebration in a World Cup match. The goal by Messi appears to be significant, judging by the reaction of the players and likely the crowd as well, although that is not able to be clearly heard. It is a typical sports highlight clip.\", \"audio_transcript\": \"\"}',\n",
       " 'document_name': 'messi-goals.mp4',\n",
       " 'start_time': 15.0,\n",
       " 'end_time': 30.0}"
      ]
     },
     "execution_count": 14,
     "metadata": {},
     "output_type": "execute_result"
    }
   ],
   "source": [
    "content[0]"
   ]
  },
  {
   "cell_type": "markdown",
   "metadata": {},
   "source": [
    "Let's see the above video clip to verify the video_description is correct"
   ]
  },
  {
   "cell_type": "code",
   "execution_count": 16,
   "metadata": {},
   "outputs": [
    {
     "name": "stdout",
     "output_type": "stream",
     "text": [
      "MoviePy - Building video videos/goal_clip.mp4.\n",
      "MoviePy - Writing audio in goal_clipTEMP_MPY_wvf_snd.mp3\n"
     ]
    },
    {
     "name": "stderr",
     "output_type": "stream",
     "text": [
      "                                                                   \r"
     ]
    },
    {
     "name": "stdout",
     "output_type": "stream",
     "text": [
      "MoviePy - Done.\n",
      "MoviePy - Writing video videos/goal_clip.mp4\n",
      "\n"
     ]
    },
    {
     "name": "stderr",
     "output_type": "stream",
     "text": [
      "                                                                         \r"
     ]
    },
    {
     "name": "stdout",
     "output_type": "stream",
     "text": [
      "MoviePy - Done !\n",
      "MoviePy - video ready videos/goal_clip.mp4\n"
     ]
    }
   ],
   "source": [
    "from moviepy import VideoFileClip\n",
    "\n",
    "video = VideoFileClip(\"videos/messi-goals.mp4\")\n",
    "goal_clip = video.subclipped(content[0]['start_time'], content[0]['end_time'])\n",
    "goal_clip.write_videofile(\"videos/goal_clip.mp4\")"
   ]
  },
  {
   "cell_type": "code",
   "execution_count": 17,
   "metadata": {},
   "outputs": [
    {
     "data": {
      "text/html": [
       "\n",
       "    <video width=\"640\" height=\"480\" controls>\n",
       "        <source src=\"videos\\goal_clip.mp4\" type=\"video/mp4\">\n",
       "        Your browser does not support the video tag.\n",
       "    </video>\n",
       "    "
      ],
      "text/plain": [
       "<IPython.core.display.HTML object>"
      ]
     },
     "metadata": {},
     "output_type": "display_data"
    }
   ],
   "source": [
    "from IPython.display import HTML\n",
    "from pathlib import Path\n",
    "\n",
    "# View the created video chunk\n",
    "video_path = Path('videos/goal_clip.mp4')\n",
    "if video_path.exists():\n",
    "    video_html = f'''\n",
    "    <video width=\"640\" height=\"480\" controls>\n",
    "        <source src=\"{video_path}\" type=\"video/mp4\">\n",
    "        Your browser does not support the video tag.\n",
    "    </video>\n",
    "    '''\n",
    "    display(HTML(video_html))\n",
    "else:\n",
    "    print(\"Video file not found!\")"
   ]
  },
  {
   "cell_type": "code",
   "execution_count": null,
   "metadata": {},
   "outputs": [],
   "source": []
  }
 ],
 "metadata": {
  "kernelspec": {
   "display_name": "Python 3",
   "language": "python",
   "name": "python3"
  },
  "language_info": {
   "codemirror_mode": {
    "name": "ipython",
    "version": 3
   },
   "file_extension": ".py",
   "mimetype": "text/x-python",
   "name": "python",
   "nbconvert_exporter": "python",
   "pygments_lexer": "ipython3",
   "version": "3.13.1"
  }
 },
 "nbformat": 4,
 "nbformat_minor": 2
}
